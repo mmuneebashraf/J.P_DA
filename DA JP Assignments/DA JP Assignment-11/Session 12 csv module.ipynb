{
 "cells": [
  {
   "cell_type": "code",
   "execution_count": 2,
   "id": "7e3d5bb3-bf72-43b1-b7d2-204c163f0f18",
   "metadata": {},
   "outputs": [],
   "source": [
    "import csv"
   ]
  },
  {
   "cell_type": "code",
   "execution_count": 3,
   "id": "ee1e4d5d-815a-45c8-804d-5fe7422a7a05",
   "metadata": {},
   "outputs": [
    {
     "ename": "ModuleNotFoundError",
     "evalue": "No module named 'CSV'",
     "output_type": "error",
     "traceback": [
      "\u001b[1;31m---------------------------------------------------------------------------\u001b[0m",
      "\u001b[1;31mModuleNotFoundError\u001b[0m                       Traceback (most recent call last)",
      "Cell \u001b[1;32mIn[3], line 1\u001b[0m\n\u001b[1;32m----> 1\u001b[0m \u001b[38;5;28;01mimport\u001b[39;00m \u001b[38;5;21;01mCSV\u001b[39;00m\n",
      "\u001b[1;31mModuleNotFoundError\u001b[0m: No module named 'CSV'"
     ]
    }
   ],
   "source": [
    "import CSV"
   ]
  },
  {
   "cell_type": "code",
   "execution_count": 8,
   "id": "8eac1012-94c2-4bad-9c4d-d8add577e919",
   "metadata": {},
   "outputs": [
    {
     "data": {
      "text/plain": [
       "['Dialect',\n",
       " 'DictReader',\n",
       " 'DictWriter',\n",
       " 'Error',\n",
       " 'QUOTE_ALL',\n",
       " 'QUOTE_MINIMAL',\n",
       " 'QUOTE_NONE',\n",
       " 'QUOTE_NONNUMERIC',\n",
       " 'QUOTE_NOTNULL',\n",
       " 'QUOTE_STRINGS',\n",
       " 'Sniffer',\n",
       " 'StringIO',\n",
       " '_Dialect',\n",
       " '__all__',\n",
       " '__builtins__',\n",
       " '__cached__',\n",
       " '__doc__',\n",
       " '__file__',\n",
       " '__loader__',\n",
       " '__name__',\n",
       " '__package__',\n",
       " '__spec__',\n",
       " '__version__',\n",
       " 'excel',\n",
       " 'excel_tab',\n",
       " 'field_size_limit',\n",
       " 'get_dialect',\n",
       " 'list_dialects',\n",
       " 're',\n",
       " 'reader',\n",
       " 'register_dialect',\n",
       " 'types',\n",
       " 'unix_dialect',\n",
       " 'unregister_dialect',\n",
       " 'writer']"
      ]
     },
     "execution_count": 8,
     "metadata": {},
     "output_type": "execute_result"
    }
   ],
   "source": [
    "# dir(csv)"
   ]
  },
  {
   "cell_type": "code",
   "execution_count": 6,
   "id": "89be66e4-9e54-4bad-9845-dfc22be73016",
   "metadata": {},
   "outputs": [
    {
     "ename": "FileNotFoundError",
     "evalue": "[Errno 2] No such file or directory: 'ye meri file ha.csv'",
     "output_type": "error",
     "traceback": [
      "\u001b[1;31m---------------------------------------------------------------------------\u001b[0m",
      "\u001b[1;31mFileNotFoundError\u001b[0m                         Traceback (most recent call last)",
      "Cell \u001b[1;32mIn[6], line 2\u001b[0m\n\u001b[0;32m      1\u001b[0m \u001b[38;5;66;03m#open file\u001b[39;00m\n\u001b[1;32m----> 2\u001b[0m open_file \u001b[38;5;241m=\u001b[39m \u001b[38;5;28mopen\u001b[39m(\u001b[38;5;124m'\u001b[39m\u001b[38;5;124mye meri file ha.csv\u001b[39m\u001b[38;5;124m'\u001b[39m, mode\u001b[38;5;241m=\u001b[39m\u001b[38;5;124m'\u001b[39m\u001b[38;5;124mr\u001b[39m\u001b[38;5;124m'\u001b[39m)\n\u001b[0;32m      3\u001b[0m open_file\n",
      "File \u001b[1;32m~\\anaconda3\\Lib\\site-packages\\IPython\\core\\interactiveshell.py:324\u001b[0m, in \u001b[0;36m_modified_open\u001b[1;34m(file, *args, **kwargs)\u001b[0m\n\u001b[0;32m    317\u001b[0m \u001b[38;5;28;01mif\u001b[39;00m file \u001b[38;5;129;01min\u001b[39;00m {\u001b[38;5;241m0\u001b[39m, \u001b[38;5;241m1\u001b[39m, \u001b[38;5;241m2\u001b[39m}:\n\u001b[0;32m    318\u001b[0m     \u001b[38;5;28;01mraise\u001b[39;00m \u001b[38;5;167;01mValueError\u001b[39;00m(\n\u001b[0;32m    319\u001b[0m         \u001b[38;5;124mf\u001b[39m\u001b[38;5;124m\"\u001b[39m\u001b[38;5;124mIPython won\u001b[39m\u001b[38;5;124m'\u001b[39m\u001b[38;5;124mt let you open fd=\u001b[39m\u001b[38;5;132;01m{\u001b[39;00mfile\u001b[38;5;132;01m}\u001b[39;00m\u001b[38;5;124m by default \u001b[39m\u001b[38;5;124m\"\u001b[39m\n\u001b[0;32m    320\u001b[0m         \u001b[38;5;124m\"\u001b[39m\u001b[38;5;124mas it is likely to crash IPython. If you know what you are doing, \u001b[39m\u001b[38;5;124m\"\u001b[39m\n\u001b[0;32m    321\u001b[0m         \u001b[38;5;124m\"\u001b[39m\u001b[38;5;124myou can use builtins\u001b[39m\u001b[38;5;124m'\u001b[39m\u001b[38;5;124m open.\u001b[39m\u001b[38;5;124m\"\u001b[39m\n\u001b[0;32m    322\u001b[0m     )\n\u001b[1;32m--> 324\u001b[0m \u001b[38;5;28;01mreturn\u001b[39;00m io_open(file, \u001b[38;5;241m*\u001b[39margs, \u001b[38;5;241m*\u001b[39m\u001b[38;5;241m*\u001b[39mkwargs)\n",
      "\u001b[1;31mFileNotFoundError\u001b[0m: [Errno 2] No such file or directory: 'ye meri file ha.csv'"
     ]
    }
   ],
   "source": [
    "#open file\n",
    "open_file = open('ye meri file ha.csv', mode='r')\n",
    "open_file"
   ]
  },
  {
   "cell_type": "code",
   "execution_count": 7,
   "id": "61f720f5-9218-44e0-b43d-de30df6a5706",
   "metadata": {},
   "outputs": [
    {
     "data": {
      "text/plain": [
       "<_io.TextIOWrapper name='student data.csv' mode='r' encoding='cp1252'>"
      ]
     },
     "execution_count": 7,
     "metadata": {},
     "output_type": "execute_result"
    }
   ],
   "source": [
    "#open file\n",
    "open_file = open('student data.csv', mode='r')\n",
    "open_file"
   ]
  },
  {
   "cell_type": "code",
   "execution_count": 9,
   "id": "64ec00f1-5cf7-4cf8-a9e3-a735252aa367",
   "metadata": {},
   "outputs": [
    {
     "data": {
      "text/plain": [
       "<_csv.reader at 0x218c2d81540>"
      ]
     },
     "execution_count": 9,
     "metadata": {},
     "output_type": "execute_result"
    }
   ],
   "source": [
    "#read data\n",
    "reader = csv.reader(open_file)\n",
    "reader"
   ]
  },
  {
   "cell_type": "code",
   "execution_count": 10,
   "id": "a4b825ec-918a-477d-bc79-235374da7914",
   "metadata": {},
   "outputs": [
    {
     "data": {
      "text/plain": [
       "[['roll no', 'Name', 'Chemistry', 'Physics', 'Math'],\n",
       " ['101', 'Aliza', '50', '23', '87'],\n",
       " ['102', 'Fareed', '45', '24', '88'],\n",
       " ['103', 'Basit', '46', '25', '89'],\n",
       " ['104', 'Abdullah', '47', '26', '90'],\n",
       " ['105', 'Ali', '48', '27', '67'],\n",
       " ['106', 'Mubashir', '49', '28', '68'],\n",
       " ['107', 'Waleed', '50', '29', '69'],\n",
       " ['108', 'Mansoor', '51', '30', '70'],\n",
       " ['109', 'Zain', '52', '31', '71'],\n",
       " ['110', 'Mohsin', '53', '67', '72'],\n",
       " ['111', 'Shahmeer', '54', '68', '73'],\n",
       " ['112', 'Rao', '55', '69', '74'],\n",
       " ['113', 'Aurangzeb', '56', '70', '75'],\n",
       " ['114', 'Zeeshan', '57', '71', '76'],\n",
       " ['115', 'Hamna', '58', '72', '77'],\n",
       " ['116', 'Hamza', '59', '73', '78'],\n",
       " ['117', 'Khalid', '60', '74', '79'],\n",
       " ['118', 'Behroz', '61', '75', '80'],\n",
       " ['119', 'Justin', '62', '76', '81'],\n",
       " ['120', 'Danish', '63', '77', '82'],\n",
       " ['121', 'Kainat', '64', '78', '83'],\n",
       " ['122', 'Sameer', '65', '79', '84'],\n",
       " ['123', 'Raza', '66', '80', '85'],\n",
       " ['124', 'Kumar', '67', '81', '86'],\n",
       " ['125', 'Komal', '68', '82', '87'],\n",
       " ['126', 'Erum', '69', '83', '88'],\n",
       " ['127', 'Faiza', '70', '84', '89'],\n",
       " ['128', 'Saeed', '71', '85', '90'],\n",
       " ['129', 'Waqar', '72', '86', '91'],\n",
       " ['130', 'Wali', '73', '87', '92'],\n",
       " ['131', 'Wajid', '74', '88', '93'],\n",
       " ['132', 'Waseeb', '75', '89', '94'],\n",
       " ['133', 'Shiza', '76', '90', '95'],\n",
       " ['134', 'Shabina', '77', '91', '96'],\n",
       " ['135', 'Shazain', '78', '55', '97'],\n",
       " ['136', 'Lubna', '79', '61', '98'],\n",
       " ['137', 'Laiba', '80', '88', '78'],\n",
       " ['138', 'Khursheed', '81', '56', '45'],\n",
       " ['139', 'Ali', '82', '89', '46'],\n",
       " ['140', 'Aiza', '83', '45', '89'],\n",
       " ['141', 'Aiman', '84', '92', '78'],\n",
       " ['142', 'Yasmeen', '85', '36', '56'],\n",
       " ['143', 'Tasbeel', '86', '78', '78'],\n",
       " ['144', 'Laraib', '87', '56', '54'],\n",
       " ['145', 'Saleem', '88', '78', '78'],\n",
       " ['146', 'Bismil', '89', '89', '46'],\n",
       " ['147', 'Batool', '90', '56', '79'],\n",
       " ['148', 'Iqra', '91', '33', '46'],\n",
       " ['149', 'Zarnish', '92', '78', '45'],\n",
       " ['150', 'Zara', '83', '45', '56']]"
      ]
     },
     "execution_count": 10,
     "metadata": {},
     "output_type": "execute_result"
    }
   ],
   "source": [
    "#convert data\n",
    "data = list(reader)\n",
    "data"
   ]
  },
  {
   "cell_type": "code",
   "execution_count": 11,
   "id": "5528d72f-c5c3-4763-87d5-0c539dfbf3a8",
   "metadata": {},
   "outputs": [
    {
     "data": {
      "text/plain": [
       "['roll no', 'Name', 'Chemistry', 'Physics', 'Math']"
      ]
     },
     "execution_count": 11,
     "metadata": {},
     "output_type": "execute_result"
    }
   ],
   "source": [
    "header = data[0]\n",
    "header"
   ]
  },
  {
   "cell_type": "code",
   "execution_count": 12,
   "id": "0addd8fe-9433-4fb5-8f37-2e2955c38c05",
   "metadata": {},
   "outputs": [
    {
     "data": {
      "text/plain": [
       "'50'"
      ]
     },
     "execution_count": 12,
     "metadata": {},
     "output_type": "execute_result"
    }
   ],
   "source": [
    "student_data = data[1][2]\n",
    "student_data"
   ]
  },
  {
   "cell_type": "code",
   "execution_count": 14,
   "id": "20307ee7-2a68-4db2-a2f1-db3cd4c2ee06",
   "metadata": {},
   "outputs": [
    {
     "name": "stdout",
     "output_type": "stream",
     "text": [
      "50.0\n",
      "45.0\n",
      "46.0\n",
      "47.0\n",
      "48.0\n",
      "49.0\n",
      "50.0\n",
      "51.0\n",
      "52.0\n",
      "53.0\n",
      "54.0\n",
      "55.0\n",
      "56.0\n",
      "57.0\n",
      "58.0\n",
      "59.0\n",
      "60.0\n",
      "61.0\n",
      "62.0\n",
      "63.0\n",
      "64.0\n",
      "65.0\n",
      "66.0\n",
      "67.0\n",
      "68.0\n",
      "69.0\n",
      "70.0\n",
      "71.0\n",
      "72.0\n",
      "73.0\n",
      "74.0\n",
      "75.0\n",
      "76.0\n",
      "77.0\n",
      "78.0\n",
      "79.0\n",
      "80.0\n",
      "81.0\n",
      "82.0\n",
      "83.0\n",
      "84.0\n",
      "85.0\n",
      "86.0\n",
      "87.0\n",
      "88.0\n",
      "89.0\n",
      "90.0\n",
      "91.0\n",
      "92.0\n",
      "83.0\n"
     ]
    }
   ],
   "source": [
    "for i in data[1:]:\n",
    "    print(float(i[2]))"
   ]
  },
  {
   "cell_type": "code",
   "execution_count": 15,
   "id": "a4ee3776-7f12-46cb-a555-f32c99b83cfc",
   "metadata": {},
   "outputs": [],
   "source": [
    "chem = []\n",
    "for i in data[1:]:\n",
    "    chem.append(float(i[2]))"
   ]
  },
  {
   "cell_type": "code",
   "execution_count": 16,
   "id": "2deb9d28-369c-414b-a9fa-053e05470eb2",
   "metadata": {},
   "outputs": [
    {
     "data": {
      "text/plain": [
       "[50.0,\n",
       " 45.0,\n",
       " 46.0,\n",
       " 47.0,\n",
       " 48.0,\n",
       " 49.0,\n",
       " 50.0,\n",
       " 51.0,\n",
       " 52.0,\n",
       " 53.0,\n",
       " 54.0,\n",
       " 55.0,\n",
       " 56.0,\n",
       " 57.0,\n",
       " 58.0,\n",
       " 59.0,\n",
       " 60.0,\n",
       " 61.0,\n",
       " 62.0,\n",
       " 63.0,\n",
       " 64.0,\n",
       " 65.0,\n",
       " 66.0,\n",
       " 67.0,\n",
       " 68.0,\n",
       " 69.0,\n",
       " 70.0,\n",
       " 71.0,\n",
       " 72.0,\n",
       " 73.0,\n",
       " 74.0,\n",
       " 75.0,\n",
       " 76.0,\n",
       " 77.0,\n",
       " 78.0,\n",
       " 79.0,\n",
       " 80.0,\n",
       " 81.0,\n",
       " 82.0,\n",
       " 83.0,\n",
       " 84.0,\n",
       " 85.0,\n",
       " 86.0,\n",
       " 87.0,\n",
       " 88.0,\n",
       " 89.0,\n",
       " 90.0,\n",
       " 91.0,\n",
       " 92.0,\n",
       " 83.0]"
      ]
     },
     "execution_count": 16,
     "metadata": {},
     "output_type": "execute_result"
    }
   ],
   "source": [
    "chem"
   ]
  },
  {
   "cell_type": "code",
   "execution_count": 17,
   "id": "b2a0c0ec-549a-4db2-8504-38870e60e542",
   "metadata": {},
   "outputs": [
    {
     "data": {
      "text/plain": [
       "3421.0"
      ]
     },
     "execution_count": 17,
     "metadata": {},
     "output_type": "execute_result"
    }
   ],
   "source": [
    "sum(chem)"
   ]
  },
  {
   "cell_type": "code",
   "execution_count": 18,
   "id": "232f4457-09d9-40b4-a8fe-af6b342b9f28",
   "metadata": {},
   "outputs": [
    {
     "data": {
      "text/plain": [
       "50"
      ]
     },
     "execution_count": 18,
     "metadata": {},
     "output_type": "execute_result"
    }
   ],
   "source": [
    "len(chem)"
   ]
  },
  {
   "cell_type": "code",
   "execution_count": 19,
   "id": "be5f09db-ea0e-48dc-82e3-ec542ec46035",
   "metadata": {},
   "outputs": [
    {
     "data": {
      "text/plain": [
       "68.42"
      ]
     },
     "execution_count": 19,
     "metadata": {},
     "output_type": "execute_result"
    }
   ],
   "source": [
    "avg = sum(chem)/len(chem)\n",
    "avg"
   ]
  },
  {
   "cell_type": "code",
   "execution_count": 28,
   "id": "844ce2fd-295e-4bb6-8fba-3f787d69b334",
   "metadata": {},
   "outputs": [
    {
     "name": "stdout",
     "output_type": "stream",
     "text": [
      "53.333333333333336\n",
      "52.33333333333333\n",
      "53.333333333333336\n",
      "54.333333333333336\n",
      "47.333333333333336\n",
      "48.333333333333336\n",
      "49.333333333333336\n",
      "50.33333333333333\n",
      "51.33333333333333\n",
      "64.0\n",
      "65.0\n",
      "66.0\n",
      "67.0\n",
      "68.0\n",
      "69.0\n",
      "70.0\n",
      "71.0\n",
      "72.0\n",
      "73.0\n",
      "74.0\n",
      "75.0\n",
      "76.0\n",
      "77.0\n",
      "78.0\n",
      "79.0\n",
      "80.0\n",
      "81.0\n",
      "82.0\n",
      "83.0\n",
      "84.0\n",
      "85.0\n",
      "86.0\n",
      "87.0\n",
      "88.0\n",
      "76.66666666666667\n",
      "79.33333333333333\n",
      "82.0\n",
      "60.66666666666667\n",
      "72.33333333333334\n",
      "72.33333333333334\n",
      "84.66666666666667\n",
      "59.0\n",
      "80.66666666666666\n",
      "65.66666666666666\n",
      "81.33333333333333\n",
      "74.66666666666667\n",
      "75.0\n",
      "56.666666666666664\n",
      "71.66666666666667\n",
      "61.33333333333333\n"
     ]
    }
   ],
   "source": [
    "for per in data[1:]:\n",
    "    chem = float(per[2])\n",
    "    phy = float(per[3])\n",
    "    maths = float(per[4])\n",
    "    percentage = (chem+phy+maths)/300*100\n",
    "    print(percentage)"
   ]
  },
  {
   "cell_type": "code",
   "execution_count": 32,
   "id": "f240d6bc-9f10-4387-9b32-7d35bb73c3ff",
   "metadata": {},
   "outputs": [
    {
     "name": "stdout",
     "output_type": "stream",
     "text": [
      "53.33\n",
      "52.33\n",
      "53.33\n",
      "54.33\n",
      "47.33\n",
      "48.33\n",
      "49.33\n",
      "50.33\n",
      "51.33\n",
      "64.0\n",
      "65.0\n",
      "66.0\n",
      "67.0\n",
      "68.0\n",
      "69.0\n",
      "70.0\n",
      "71.0\n",
      "72.0\n",
      "73.0\n",
      "74.0\n",
      "75.0\n",
      "76.0\n",
      "77.0\n",
      "78.0\n",
      "79.0\n",
      "80.0\n",
      "81.0\n",
      "82.0\n",
      "83.0\n",
      "84.0\n",
      "85.0\n",
      "86.0\n",
      "87.0\n",
      "88.0\n",
      "76.67\n",
      "79.33\n",
      "82.0\n",
      "60.67\n",
      "72.33\n",
      "72.33\n",
      "84.67\n",
      "59.0\n",
      "80.67\n",
      "65.67\n",
      "81.33\n",
      "74.67\n",
      "75.0\n",
      "56.67\n",
      "71.67\n",
      "61.33\n"
     ]
    }
   ],
   "source": [
    "for per in data[1:]:\n",
    "    chem = float(per[2])\n",
    "    phy = float(per[3])\n",
    "    maths = float(per[4])\n",
    "    percentage = round((chem+phy+maths)/300*100,2)\n",
    "    print(percentage)"
   ]
  },
  {
   "cell_type": "code",
   "execution_count": 27,
   "id": "5104d310-652e-4e2a-8627-91942511f4fd",
   "metadata": {},
   "outputs": [],
   "source": [
    "# data"
   ]
  },
  {
   "cell_type": "code",
   "execution_count": 25,
   "id": "4a652b97-2a4b-4585-bc71-886f32af90f4",
   "metadata": {},
   "outputs": [
    {
     "data": {
      "text/plain": [
       "53.333333333333336"
      ]
     },
     "execution_count": 25,
     "metadata": {},
     "output_type": "execute_result"
    }
   ],
   "source": [
    "(50+23+87)/300*100"
   ]
  },
  {
   "cell_type": "code",
   "execution_count": 26,
   "id": "3c57b56d-9cca-417f-9fb2-c4acb20cac01",
   "metadata": {},
   "outputs": [
    {
     "data": {
      "text/plain": [
       "61.33333333333333"
      ]
     },
     "execution_count": 26,
     "metadata": {},
     "output_type": "execute_result"
    }
   ],
   "source": [
    "(83+45+56)/300*100"
   ]
  },
  {
   "cell_type": "code",
   "execution_count": 33,
   "id": "d341b179-12de-46fc-9310-64341058d274",
   "metadata": {},
   "outputs": [
    {
     "name": "stdout",
     "output_type": "stream",
     "text": [
      "['101', 'Aliza', '50', '23', '87']\n",
      "['102', 'Fareed', '45', '24', '88']\n",
      "['103', 'Basit', '46', '25', '89']\n",
      "['104', 'Abdullah', '47', '26', '90']\n",
      "['105', 'Ali', '48', '27', '67']\n",
      "['106', 'Mubashir', '49', '28', '68']\n",
      "['107', 'Waleed', '50', '29', '69']\n",
      "['108', 'Mansoor', '51', '30', '70']\n",
      "['109', 'Zain', '52', '31', '71']\n",
      "['110', 'Mohsin', '53', '67', '72']\n",
      "['111', 'Shahmeer', '54', '68', '73']\n",
      "['112', 'Rao', '55', '69', '74']\n",
      "['113', 'Aurangzeb', '56', '70', '75']\n",
      "['114', 'Zeeshan', '57', '71', '76']\n",
      "['115', 'Hamna', '58', '72', '77']\n",
      "['116', 'Hamza', '59', '73', '78']\n",
      "['117', 'Khalid', '60', '74', '79']\n",
      "['118', 'Behroz', '61', '75', '80']\n",
      "['119', 'Justin', '62', '76', '81']\n",
      "['120', 'Danish', '63', '77', '82']\n",
      "['121', 'Kainat', '64', '78', '83']\n",
      "['122', 'Sameer', '65', '79', '84']\n",
      "['123', 'Raza', '66', '80', '85']\n",
      "['124', 'Kumar', '67', '81', '86']\n",
      "['125', 'Komal', '68', '82', '87']\n",
      "['126', 'Erum', '69', '83', '88']\n",
      "['127', 'Faiza', '70', '84', '89']\n",
      "['128', 'Saeed', '71', '85', '90']\n",
      "['129', 'Waqar', '72', '86', '91']\n",
      "['130', 'Wali', '73', '87', '92']\n",
      "['131', 'Wajid', '74', '88', '93']\n",
      "['132', 'Waseeb', '75', '89', '94']\n",
      "['133', 'Shiza', '76', '90', '95']\n",
      "['134', 'Shabina', '77', '91', '96']\n",
      "['135', 'Shazain', '78', '55', '97']\n",
      "['136', 'Lubna', '79', '61', '98']\n",
      "['137', 'Laiba', '80', '88', '78']\n",
      "['138', 'Khursheed', '81', '56', '45']\n",
      "['139', 'Ali', '82', '89', '46']\n",
      "['140', 'Aiza', '83', '45', '89']\n",
      "['141', 'Aiman', '84', '92', '78']\n",
      "['142', 'Yasmeen', '85', '36', '56']\n",
      "['143', 'Tasbeel', '86', '78', '78']\n",
      "['144', 'Laraib', '87', '56', '54']\n",
      "['145', 'Saleem', '88', '78', '78']\n",
      "['146', 'Bismil', '89', '89', '46']\n",
      "['147', 'Batool', '90', '56', '79']\n",
      "['148', 'Iqra', '91', '33', '46']\n",
      "['149', 'Zarnish', '92', '78', '45']\n",
      "['150', 'Zara', '83', '45', '56']\n"
     ]
    }
   ],
   "source": [
    "for per in data[1:]:\n",
    "    print(per)\n",
    "    # chem = float(per[2])\n",
    "    # phy = float(per[3])\n",
    "    # maths = float(per[4])\n",
    "    # percentage = round((chem+phy+maths)/300*100,2)\n",
    "    "
   ]
  },
  {
   "cell_type": "code",
   "execution_count": 34,
   "id": "746bffef-507b-417a-85fc-5d0b793abf01",
   "metadata": {},
   "outputs": [],
   "source": [
    "for per in data[1:]:\n",
    "    chem = float(per[2])\n",
    "    phy = float(per[3])\n",
    "    maths = float(per[4])\n",
    "    percentage = round((chem+phy+maths)/300*100,2)\n",
    "    per.append(percentage)"
   ]
  },
  {
   "cell_type": "code",
   "execution_count": 35,
   "id": "83d89283-7c97-43d2-b803-fb64f4b2bf95",
   "metadata": {},
   "outputs": [
    {
     "data": {
      "text/plain": [
       "[['roll no', 'Name', 'Chemistry', 'Physics', 'Math'],\n",
       " ['101', 'Aliza', '50', '23', '87', 53.33],\n",
       " ['102', 'Fareed', '45', '24', '88', 52.33],\n",
       " ['103', 'Basit', '46', '25', '89', 53.33],\n",
       " ['104', 'Abdullah', '47', '26', '90', 54.33],\n",
       " ['105', 'Ali', '48', '27', '67', 47.33],\n",
       " ['106', 'Mubashir', '49', '28', '68', 48.33],\n",
       " ['107', 'Waleed', '50', '29', '69', 49.33],\n",
       " ['108', 'Mansoor', '51', '30', '70', 50.33],\n",
       " ['109', 'Zain', '52', '31', '71', 51.33],\n",
       " ['110', 'Mohsin', '53', '67', '72', 64.0],\n",
       " ['111', 'Shahmeer', '54', '68', '73', 65.0],\n",
       " ['112', 'Rao', '55', '69', '74', 66.0],\n",
       " ['113', 'Aurangzeb', '56', '70', '75', 67.0],\n",
       " ['114', 'Zeeshan', '57', '71', '76', 68.0],\n",
       " ['115', 'Hamna', '58', '72', '77', 69.0],\n",
       " ['116', 'Hamza', '59', '73', '78', 70.0],\n",
       " ['117', 'Khalid', '60', '74', '79', 71.0],\n",
       " ['118', 'Behroz', '61', '75', '80', 72.0],\n",
       " ['119', 'Justin', '62', '76', '81', 73.0],\n",
       " ['120', 'Danish', '63', '77', '82', 74.0],\n",
       " ['121', 'Kainat', '64', '78', '83', 75.0],\n",
       " ['122', 'Sameer', '65', '79', '84', 76.0],\n",
       " ['123', 'Raza', '66', '80', '85', 77.0],\n",
       " ['124', 'Kumar', '67', '81', '86', 78.0],\n",
       " ['125', 'Komal', '68', '82', '87', 79.0],\n",
       " ['126', 'Erum', '69', '83', '88', 80.0],\n",
       " ['127', 'Faiza', '70', '84', '89', 81.0],\n",
       " ['128', 'Saeed', '71', '85', '90', 82.0],\n",
       " ['129', 'Waqar', '72', '86', '91', 83.0],\n",
       " ['130', 'Wali', '73', '87', '92', 84.0],\n",
       " ['131', 'Wajid', '74', '88', '93', 85.0],\n",
       " ['132', 'Waseeb', '75', '89', '94', 86.0],\n",
       " ['133', 'Shiza', '76', '90', '95', 87.0],\n",
       " ['134', 'Shabina', '77', '91', '96', 88.0],\n",
       " ['135', 'Shazain', '78', '55', '97', 76.67],\n",
       " ['136', 'Lubna', '79', '61', '98', 79.33],\n",
       " ['137', 'Laiba', '80', '88', '78', 82.0],\n",
       " ['138', 'Khursheed', '81', '56', '45', 60.67],\n",
       " ['139', 'Ali', '82', '89', '46', 72.33],\n",
       " ['140', 'Aiza', '83', '45', '89', 72.33],\n",
       " ['141', 'Aiman', '84', '92', '78', 84.67],\n",
       " ['142', 'Yasmeen', '85', '36', '56', 59.0],\n",
       " ['143', 'Tasbeel', '86', '78', '78', 80.67],\n",
       " ['144', 'Laraib', '87', '56', '54', 65.67],\n",
       " ['145', 'Saleem', '88', '78', '78', 81.33],\n",
       " ['146', 'Bismil', '89', '89', '46', 74.67],\n",
       " ['147', 'Batool', '90', '56', '79', 75.0],\n",
       " ['148', 'Iqra', '91', '33', '46', 56.67],\n",
       " ['149', 'Zarnish', '92', '78', '45', 71.67],\n",
       " ['150', 'Zara', '83', '45', '56', 61.33]]"
      ]
     },
     "execution_count": 35,
     "metadata": {},
     "output_type": "execute_result"
    }
   ],
   "source": [
    "data"
   ]
  },
  {
   "cell_type": "code",
   "execution_count": 38,
   "id": "becb20a8-2614-400a-9a14-a24ea0e3c059",
   "metadata": {},
   "outputs": [],
   "source": [
    "header.append('Percentage')"
   ]
  },
  {
   "cell_type": "code",
   "execution_count": 39,
   "id": "e2222a44-b2ed-413a-ac9c-cb98a6f2a14b",
   "metadata": {},
   "outputs": [
    {
     "data": {
      "text/plain": [
       "['roll no', 'Name', 'Chemistry', 'Physics', 'Math', 'Percentage']"
      ]
     },
     "execution_count": 39,
     "metadata": {},
     "output_type": "execute_result"
    }
   ],
   "source": [
    "data[0]"
   ]
  },
  {
   "cell_type": "code",
   "execution_count": 40,
   "id": "03e16c4e-f194-4301-8f4f-6408196f6dcd",
   "metadata": {},
   "outputs": [
    {
     "data": {
      "text/plain": [
       "['roll no', 'Name', 'Chemistry', 'Physics', 'Math', 'Percentage']"
      ]
     },
     "execution_count": 40,
     "metadata": {},
     "output_type": "execute_result"
    }
   ],
   "source": [
    "header"
   ]
  },
  {
   "cell_type": "code",
   "execution_count": 41,
   "id": "3f10e12e-e6f2-4034-9566-36a95fbf0ef1",
   "metadata": {},
   "outputs": [
    {
     "data": {
      "text/plain": [
       "[['roll no', 'Name', 'Chemistry', 'Physics', 'Math', 'Percentage'],\n",
       " ['101', 'Aliza', '50', '23', '87', 53.33],\n",
       " ['102', 'Fareed', '45', '24', '88', 52.33],\n",
       " ['103', 'Basit', '46', '25', '89', 53.33],\n",
       " ['104', 'Abdullah', '47', '26', '90', 54.33],\n",
       " ['105', 'Ali', '48', '27', '67', 47.33],\n",
       " ['106', 'Mubashir', '49', '28', '68', 48.33],\n",
       " ['107', 'Waleed', '50', '29', '69', 49.33],\n",
       " ['108', 'Mansoor', '51', '30', '70', 50.33],\n",
       " ['109', 'Zain', '52', '31', '71', 51.33],\n",
       " ['110', 'Mohsin', '53', '67', '72', 64.0],\n",
       " ['111', 'Shahmeer', '54', '68', '73', 65.0],\n",
       " ['112', 'Rao', '55', '69', '74', 66.0],\n",
       " ['113', 'Aurangzeb', '56', '70', '75', 67.0],\n",
       " ['114', 'Zeeshan', '57', '71', '76', 68.0],\n",
       " ['115', 'Hamna', '58', '72', '77', 69.0],\n",
       " ['116', 'Hamza', '59', '73', '78', 70.0],\n",
       " ['117', 'Khalid', '60', '74', '79', 71.0],\n",
       " ['118', 'Behroz', '61', '75', '80', 72.0],\n",
       " ['119', 'Justin', '62', '76', '81', 73.0],\n",
       " ['120', 'Danish', '63', '77', '82', 74.0],\n",
       " ['121', 'Kainat', '64', '78', '83', 75.0],\n",
       " ['122', 'Sameer', '65', '79', '84', 76.0],\n",
       " ['123', 'Raza', '66', '80', '85', 77.0],\n",
       " ['124', 'Kumar', '67', '81', '86', 78.0],\n",
       " ['125', 'Komal', '68', '82', '87', 79.0],\n",
       " ['126', 'Erum', '69', '83', '88', 80.0],\n",
       " ['127', 'Faiza', '70', '84', '89', 81.0],\n",
       " ['128', 'Saeed', '71', '85', '90', 82.0],\n",
       " ['129', 'Waqar', '72', '86', '91', 83.0],\n",
       " ['130', 'Wali', '73', '87', '92', 84.0],\n",
       " ['131', 'Wajid', '74', '88', '93', 85.0],\n",
       " ['132', 'Waseeb', '75', '89', '94', 86.0],\n",
       " ['133', 'Shiza', '76', '90', '95', 87.0],\n",
       " ['134', 'Shabina', '77', '91', '96', 88.0],\n",
       " ['135', 'Shazain', '78', '55', '97', 76.67],\n",
       " ['136', 'Lubna', '79', '61', '98', 79.33],\n",
       " ['137', 'Laiba', '80', '88', '78', 82.0],\n",
       " ['138', 'Khursheed', '81', '56', '45', 60.67],\n",
       " ['139', 'Ali', '82', '89', '46', 72.33],\n",
       " ['140', 'Aiza', '83', '45', '89', 72.33],\n",
       " ['141', 'Aiman', '84', '92', '78', 84.67],\n",
       " ['142', 'Yasmeen', '85', '36', '56', 59.0],\n",
       " ['143', 'Tasbeel', '86', '78', '78', 80.67],\n",
       " ['144', 'Laraib', '87', '56', '54', 65.67],\n",
       " ['145', 'Saleem', '88', '78', '78', 81.33],\n",
       " ['146', 'Bismil', '89', '89', '46', 74.67],\n",
       " ['147', 'Batool', '90', '56', '79', 75.0],\n",
       " ['148', 'Iqra', '91', '33', '46', 56.67],\n",
       " ['149', 'Zarnish', '92', '78', '45', 71.67],\n",
       " ['150', 'Zara', '83', '45', '56', 61.33]]"
      ]
     },
     "execution_count": 41,
     "metadata": {},
     "output_type": "execute_result"
    }
   ],
   "source": [
    "data"
   ]
  },
  {
   "cell_type": "code",
   "execution_count": 42,
   "id": "0a42b560-c90d-493b-87f5-2fb4a1b2a1e2",
   "metadata": {},
   "outputs": [
    {
     "data": {
      "text/plain": [
       "<_io.TextIOWrapper name='student percentage.csv' mode='w' encoding='cp1252'>"
      ]
     },
     "execution_count": 42,
     "metadata": {},
     "output_type": "execute_result"
    }
   ],
   "source": [
    "updated = open('student percentage.csv', mode='w')\n",
    "updated"
   ]
  },
  {
   "cell_type": "code",
   "execution_count": 43,
   "id": "c8d5748b-dc54-45e2-bf59-3eda610298b1",
   "metadata": {},
   "outputs": [
    {
     "data": {
      "text/plain": [
       "<_csv.writer at 0x218c28413c0>"
      ]
     },
     "execution_count": 43,
     "metadata": {},
     "output_type": "execute_result"
    }
   ],
   "source": [
    "writer = csv.writer(updated)\n",
    "writer"
   ]
  },
  {
   "cell_type": "code",
   "execution_count": 44,
   "id": "a48d7961-d4b2-4dae-9df9-1b8481388d52",
   "metadata": {},
   "outputs": [],
   "source": [
    "writer.writerows(data)"
   ]
  },
  {
   "cell_type": "code",
   "execution_count": 45,
   "id": "07a2c096-30af-4186-aee1-459efcddf12c",
   "metadata": {},
   "outputs": [],
   "source": [
    "updated.close()"
   ]
  },
  {
   "cell_type": "code",
   "execution_count": null,
   "id": "31e1ab14-c74d-4317-92a6-fd62e81f135b",
   "metadata": {},
   "outputs": [],
   "source": []
  },
  {
   "cell_type": "code",
   "execution_count": 46,
   "id": "e25392f8-4229-4227-86c4-dcdd1fdde40e",
   "metadata": {},
   "outputs": [],
   "source": [
    "updated1 = open('student percentage updated.csv', mode='w', newline='') #with newline\n",
    "writer1 = csv.writer(updated1)\n",
    "writer1.writerows(data)\n",
    "updated1.close()"
   ]
  },
  {
   "cell_type": "code",
   "execution_count": null,
   "id": "2a6f2d21-1f16-4286-9bea-e9e579949daf",
   "metadata": {},
   "outputs": [],
   "source": []
  }
 ],
 "metadata": {
  "kernelspec": {
   "display_name": "Python 3 (ipykernel)",
   "language": "python",
   "name": "python3"
  },
  "language_info": {
   "codemirror_mode": {
    "name": "ipython",
    "version": 3
   },
   "file_extension": ".py",
   "mimetype": "text/x-python",
   "name": "python",
   "nbconvert_exporter": "python",
   "pygments_lexer": "ipython3",
   "version": "3.11.4"
  }
 },
 "nbformat": 4,
 "nbformat_minor": 5
}
