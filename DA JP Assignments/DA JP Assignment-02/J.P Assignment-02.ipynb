{
 "cells": [
  {
   "cell_type": "markdown",
   "id": "ce1c35a9",
   "metadata": {},
   "source": [
    "# Data Analytics Assignment-02"
   ]
  },
  {
   "cell_type": "markdown",
   "id": "e1d2ad64",
   "metadata": {},
   "source": [
    "Q1. Write a program that takes two numbers (a = 15 , b = 4) and prints their:\n",
    "\n",
    "Sum\n",
    "\n",
    "Difference\n",
    "\n",
    "Product\n",
    "\n",
    "Division\n",
    "\n",
    "Floor Division\n",
    "\n",
    "Modulus"
   ]
  },
  {
   "cell_type": "code",
   "execution_count": 1,
   "id": "f342dc12",
   "metadata": {},
   "outputs": [
    {
     "name": "stdout",
     "output_type": "stream",
     "text": [
      "Sum of a and b is: 19\n",
      "\n",
      "Difference of a and b is: 11 \n",
      "\n",
      "Product of a and b is: 60\n",
      "\n",
      "Division of a and b is: 3.75\n",
      "\n",
      "Floor Division of a and b is: 3\n",
      "\n",
      "Modulus of a and b is: 3\n",
      "\n",
      "\n"
     ]
    }
   ],
   "source": [
    "a = 15\n",
    "b = 4\n",
    "\n",
    "print(f\"\"\"Sum of a and b is: {a+b}\n",
    "\n",
    "Difference of a and b is: {a-b} \n",
    "\n",
    "Product of a and b is: {a*b}\n",
    "\n",
    "Division of a and b is: {a/b}\n",
    "\n",
    "Floor Division of a and b is: {a//b}\n",
    "\n",
    "Modulus of a and b is: {a%b}\n",
    "\n",
    "\"\"\")"
   ]
  },
  {
   "cell_type": "markdown",
   "id": "e13a59c1",
   "metadata": {},
   "source": [
    "Q2. Check the type and convert: (num1 = 10, num2 = 5.6, num3 = 4.43, num4='23')\n",
    "\n",
    "Integer to float\n",
    "\n",
    "Float to integer\n",
    "\n",
    "Float to String\n",
    "\n",
    "String to Integer"
   ]
  },
  {
   "cell_type": "code",
   "execution_count": 2,
   "id": "0b57007b",
   "metadata": {},
   "outputs": [
    {
     "name": "stdout",
     "output_type": "stream",
     "text": [
      "Type of num1 is: <class 'int'>\n",
      "Type of num1 is: <class 'float'>\n",
      "Type of num1 is: <class 'float'>\n",
      "Type of num1 is: <class 'str'>\n",
      "\n",
      "\n",
      "After Conversion \n",
      "10.0  <class 'float'>\n",
      "5  <class 'int'>\n",
      "4.43  <class 'str'>\n",
      "23  <class 'int'>\n",
      "\n"
     ]
    }
   ],
   "source": [
    "num1 = 10\n",
    "num2 = 5.6\n",
    "num3 = 4.43\n",
    "num4='23'\n",
    "\n",
    "print(f\"\"\"Type of num1 is: {type(num1)}\n",
    "Type of num1 is: {type(num2)}\n",
    "Type of num1 is: {type(num3)}\n",
    "Type of num1 is: {type(num4)}\n",
    "\"\"\")\n",
    "print(f\"\"\"\n",
    "After Conversion \n",
    "{float(num1)}  {type(float(num1))}\n",
    "{int(num2)}  {type(int(num2))}\n",
    "{str(num3)}  {type(str(num3))}\n",
    "{int(num4)}  {type(int(num4))}\n",
    "\"\"\")\n"
   ]
  },
  {
   "cell_type": "markdown",
   "id": "626e048a",
   "metadata": {},
   "source": [
    "Q3. Write a code to store your favorite food in a variable and print it."
   ]
  },
  {
   "cell_type": "code",
   "execution_count": 3,
   "id": "84751a11",
   "metadata": {},
   "outputs": [
    {
     "name": "stdout",
     "output_type": "stream",
     "text": [
      "My Favorite Food is: Biryani\n"
     ]
    }
   ],
   "source": [
    "favorite_Food = \"Biryani\"\n",
    "print(f\"My Favorite Food is: {favorite_Food}\")"
   ]
  },
  {
   "cell_type": "markdown",
   "id": "b89960bd",
   "metadata": {},
   "source": [
    "Q4. \"I have 22 apples and 33 mangoes. How many fruits do I have in total?\"\n",
    "\n",
    "apple = '22'\n",
    "\n",
    "mangoes = 33"
   ]
  },
  {
   "cell_type": "code",
   "execution_count": 4,
   "id": "4baf2c23",
   "metadata": {},
   "outputs": [
    {
     "name": "stdout",
     "output_type": "stream",
     "text": [
      "\n",
      "I have 22 Apples and 33 manoes\n",
      "and in Total I have 55 Fruits\n",
      "\n"
     ]
    }
   ],
   "source": [
    "apple = '22'\n",
    "mangoes = 33\n",
    "\n",
    "print(f\"\"\"\n",
    "I have 22 Apples and 33 manoes\n",
    "and in Total I have {int(apple) + mangoes} Fruits\n",
    "\"\"\")"
   ]
  },
  {
   "cell_type": "markdown",
   "id": "239eeb58",
   "metadata": {},
   "source": [
    "Q5. Store in a varibale: Write Your name , Your age, Add 1 to your age using a variable, Print final age"
   ]
  },
  {
   "cell_type": "code",
   "execution_count": 5,
   "id": "d4050983",
   "metadata": {},
   "outputs": [
    {
     "name": "stdout",
     "output_type": "stream",
     "text": [
      "My age is :  29\n"
     ]
    }
   ],
   "source": [
    "name = \"Muneeb\"\n",
    "age = 28\n",
    "\n",
    "print(\"My age is : \" , age+1)\n"
   ]
  },
  {
   "cell_type": "markdown",
   "id": "2fcdaf5b",
   "metadata": {},
   "source": [
    "Q6.\n",
    "\n",
    "a = 2\n",
    "\n",
    "b = 1\n",
    "\n",
    "c = 6\n",
    "\n",
    "d = 3\n",
    "\n",
    "Add a and b\n",
    "\n",
    "Subtract c and a\n",
    "\n",
    "Multiply d and b\n",
    "\n",
    "Divide c and d (float division)\n",
    "\n",
    "Find modulus of c divided by d\n",
    "\n",
    "Square of (d+a)"
   ]
  },
  {
   "cell_type": "code",
   "execution_count": 6,
   "id": "dfa981b0",
   "metadata": {},
   "outputs": [
    {
     "name": "stdout",
     "output_type": "stream",
     "text": [
      "\n",
      "Addition of a and b is : 3\n",
      "Subtraction of c and a is : 4\n",
      "Multiplication of c and d is : 18\n",
      "Division of c and d is : 2.0\n",
      "Modulus of c divided by d is : 0\n",
      "square of d+a is : 25\n",
      "\n"
     ]
    }
   ],
   "source": [
    "a = 2\n",
    "b = 1\n",
    "c = 6\n",
    "d = 3\n",
    "print(f\"\"\"\n",
    "Addition of a and b is : {a+b}\n",
    "Subtraction of c and a is : {c-a}\n",
    "Multiplication of c and d is : {c*d}\n",
    "Division of c and d is : {c/d}\n",
    "Modulus of c divided by d is : {c%d}\n",
    "square of d+a is : {(d+a)**2}\n",
    "\"\"\")"
   ]
  },
  {
   "cell_type": "markdown",
   "id": "3ac937d7",
   "metadata": {},
   "source": [
    "Q7.\n",
    "\n",
    "a = '2'\n",
    "\n",
    "b = '11'\n",
    "\n",
    "c = 6.3\n",
    "\n",
    "Convert a to integer then add to c\n",
    "\n",
    "Convert b to float then multiply by c\n",
    "\n",
    "Convert c to integer then add to c"
   ]
  },
  {
   "cell_type": "code",
   "execution_count": 7,
   "id": "bfe27d0a",
   "metadata": {},
   "outputs": [
    {
     "name": "stdout",
     "output_type": "stream",
     "text": [
      "\n",
      "8.3\n",
      "69.3\n",
      "12.3\n",
      "        \n"
     ]
    }
   ],
   "source": [
    "a = '2'\n",
    "\n",
    "b = '11'\n",
    "\n",
    "c = 6.3\n",
    "\n",
    "print(f\"\"\"\n",
    "{int(a)+c}\n",
    "{float(b)*c}\n",
    "{int(c)+c}\n",
    "        \"\"\")"
   ]
  },
  {
   "cell_type": "markdown",
   "id": "93c62c36",
   "metadata": {},
   "source": [
    "Q8.\n",
    "\n",
    "You were 20 years old in the year 2020. Now add 5 more years to your age. What is your current age now?\n",
    "\n",
    "Store age in a variable called age. Print final output in same variable"
   ]
  },
  {
   "cell_type": "code",
   "execution_count": 8,
   "id": "0ab06258",
   "metadata": {},
   "outputs": [
    {
     "name": "stdout",
     "output_type": "stream",
     "text": [
      "My Current Age is : 25\n"
     ]
    }
   ],
   "source": [
    "age = 20\n",
    "print(\"My Current Age is :\" , age+5)"
   ]
  },
  {
   "cell_type": "markdown",
   "id": "5ba3a1b6",
   "metadata": {},
   "source": [
    "Q9.\n",
    "\n",
    "You had 12 books, and you gave 4 to your friend. How many books do you have now?\n",
    "\n",
    "Store books in a variable called books. Print final output in same variable"
   ]
  },
  {
   "cell_type": "code",
   "execution_count": 9,
   "id": "21a30815",
   "metadata": {},
   "outputs": [
    {
     "name": "stdout",
     "output_type": "stream",
     "text": [
      "Now I have 8 Books\n"
     ]
    }
   ],
   "source": [
    "books = 12 \n",
    "print(\"Now I have\",books-4 , \"Books\")"
   ]
  },
  {
   "cell_type": "markdown",
   "id": "4de418ae",
   "metadata": {},
   "source": [
    "Q10.\n",
    "\n",
    "You baked 5 cookies. You baked 3 times more cookies today. How many cookies did you bake today?\n",
    "\n",
    "Store cookies in a variable called cookies. Print final output in same variable"
   ]
  },
  {
   "cell_type": "code",
   "execution_count": 10,
   "id": "1f56e7da",
   "metadata": {},
   "outputs": [
    {
     "name": "stdout",
     "output_type": "stream",
     "text": [
      "I Have Baked Total 15 Cookies\n"
     ]
    }
   ],
   "source": [
    "cookies = 5\n",
    "print (\"I Have Baked Total\",cookies*3,\"Cookies\")"
   ]
  },
  {
   "cell_type": "code",
   "execution_count": null,
   "id": "a1afd57a",
   "metadata": {},
   "outputs": [],
   "source": []
  }
 ],
 "metadata": {
  "kernelspec": {
   "display_name": "Python 3 (ipykernel)",
   "language": "python",
   "name": "python3"
  },
  "language_info": {
   "codemirror_mode": {
    "name": "ipython",
    "version": 3
   },
   "file_extension": ".py",
   "mimetype": "text/x-python",
   "name": "python",
   "nbconvert_exporter": "python",
   "pygments_lexer": "ipython3",
   "version": "3.11.4"
  }
 },
 "nbformat": 4,
 "nbformat_minor": 5
}
