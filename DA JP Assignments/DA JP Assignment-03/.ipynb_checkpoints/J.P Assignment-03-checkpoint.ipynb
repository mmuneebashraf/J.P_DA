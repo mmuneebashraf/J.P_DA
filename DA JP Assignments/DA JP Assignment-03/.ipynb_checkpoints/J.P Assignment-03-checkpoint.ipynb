{
 "cells": [
  {
   "cell_type": "markdown",
   "id": "6f757dad-66dd-44cb-b8cc-7ce63717f871",
   "metadata": {},
   "source": [
    "Q1\n",
    "\n",
    "animals = [\"cat\", \"dog\", \"rabbit\", \"tiger\", \"elephant\"]\n",
    "\n",
    "- Print \"tiger\" by indexing\n",
    "- Print \"rabbit by negative indexing\n",
    "- Print \"rabbit\" to \"elephant\" by slicing"
   ]
  },
  {
   "cell_type": "code",
   "execution_count": 1,
   "id": "2c805702-ff96-48ba-b746-0c233375768f",
   "metadata": {},
   "outputs": [
    {
     "name": "stdout",
     "output_type": "stream",
     "text": [
      "Print \"tiger\" by indexing: tiger\n",
      "Print \"rabbit\" by negative indexing: rabbit\n",
      "Print \"rabbit\" to \"elephant\" by possitive index slicing: ['rabbit', 'tiger', 'elephant']\n",
      "Print \"rabbit\" to \"elephant\" by negetive index slicing: ['rabbit', 'tiger', 'elephant']\n"
     ]
    }
   ],
   "source": [
    "animals = [\"cat\", \"dog\", \"rabbit\", \"tiger\", \"elephant\"]\n",
    "\n",
    "print(f\"Print \\\"tiger\\\" by indexing: {animals[3]}\" )\n",
    "print(f\"Print \\\"rabbit\\\" by negative indexing: {animals[-3]}\" )\n",
    "print(f\"Print \\\"rabbit\\\" to \\\"elephant\\\" by possitive index slicing: {animals[2:5]}\" )\n",
    "print(f\"Print \\\"rabbit\\\" to \\\"elephant\\\" by negetive index slicing: {animals[-3:]}\" )"
   ]
  },
  {
   "cell_type": "markdown",
   "id": "1dee0f44-1f3a-4a99-8931-ffc7d9e4b70e",
   "metadata": {},
   "source": [
    "Q2.\n",
    "\n",
    "Add \"lion\" to the list of animals by list method append\n",
    "\n",
    "Remove \"rabbit\" from the list by list method remove\n",
    "\n",
    "Print the updated list."
   ]
  },
  {
   "cell_type": "code",
   "execution_count": 2,
   "id": "aa9ff7eb-aceb-4727-bf0a-cc7074fe92a3",
   "metadata": {},
   "outputs": [
    {
     "name": "stdout",
     "output_type": "stream",
     "text": [
      "Animals List After Adding \"loin\\: ['cat', 'dog', 'rabbit', 'tiger', 'elephant', 'loin']\n",
      "Animals List After Rmoving \"rabbit\\: ['cat', 'dog', 'tiger', 'elephant', 'loin']\n",
      "Updated Animals List: ['cat', 'dog', 'tiger', 'elephant', 'loin']\n"
     ]
    }
   ],
   "source": [
    "animals.append(\"loin\")\n",
    "print(f\"Animals List After Adding \\\"loin\\: {animals}\")\n",
    "animals.remove(\"rabbit\")\n",
    "print(f\"Animals List After Rmoving \\\"rabbit\\: {animals}\")\n",
    "print(f\"Updated Animals List: {animals}\")"
   ]
  },
  {
   "cell_type": "markdown",
   "id": "6487290b-aa44-49af-b148-8eda538416a9",
   "metadata": {},
   "source": [
    "Q3.\n",
    "\n",
    "basket = [[\"apple\", \"banana\", \"mango\"], [\"red\", \"blue\", \"green\", \"black\"]]\n",
    "\n",
    "- print list of fruits\n",
    "- print list of colors\n",
    "- print second fruit by negative indexing\n",
    "- replace color \"blue\" with \"white\"\n",
    "- print length of colors list\n"
   ]
  },
  {
   "cell_type": "code",
   "execution_count": 3,
   "id": "fca5e45e-7704-4593-8187-7209119dacea",
   "metadata": {},
   "outputs": [
    {
     "name": "stdout",
     "output_type": "stream",
     "text": [
      "List of Fruits: ['apple', 'banana', 'mango']\n",
      "List of Colors: ['red', 'blue', 'green', 'black']\n",
      "second fruit by negative indexing: banana\n",
      "second fruit by negative indexing: banana\n",
      "replace color \"blue\" with \"white\": white\n",
      "length of colors list: 4\n"
     ]
    }
   ],
   "source": [
    "basket = [[\"apple\", \"banana\", \"mango\"], [\"red\", \"blue\", \"green\", \"black\"]]\n",
    "\n",
    "print(f\"List of Fruits: {basket[0]}\")\n",
    "print(f\"List of Colors: {basket[1]}\")\n",
    "print(f\"second fruit by negative indexing: {basket[-2][1]}\")\n",
    "print(f\"second fruit by negative indexing: {basket[-2][-2]}\")\n",
    "basket[1][1] = \"white\"\n",
    "print(f\"replace color \\\"blue\\\" with \\\"white\\\": {basket[1][1]}\")\n",
    "print(f\"length of colors list: {len(basket[1])}\")\n"
   ]
  },
  {
   "cell_type": "markdown",
   "id": "a7f894ca-745e-4cbb-8625-a2b6448b48aa",
   "metadata": {},
   "source": [
    "Q4.\n",
    "\n",
    "food = [\"pizza\", \"burger\", \"fries\", \"burger\", \"pasta\", \"burger\", \"biryani\", \"fries]\n",
    "\n",
    "- Add \"sandwich\" to the end of the list.\n",
    "- Insert \"biryani\" at index 2.\n"
   ]
  },
  {
   "cell_type": "code",
   "execution_count": 4,
   "id": "c6767c90-3e75-4068-b373-b29f0aa22502",
   "metadata": {},
   "outputs": [
    {
     "name": "stdout",
     "output_type": "stream",
     "text": [
      "Updated Food List: ['pizza', 'burger', 'biryani', 'fries', 'burger', 'pasta', 'burger', 'biryani', 'fries', 'sandwich']\n"
     ]
    }
   ],
   "source": [
    "food = [\"pizza\", \"burger\", \"fries\", \"burger\", \"pasta\", \"burger\", \"biryani\", \"fries\"]\n",
    "\n",
    "food.append(\"sandwich\")\n",
    "food.insert(2,\"biryani\")\n",
    "print(f\"Updated Food List: {food}\")"
   ]
  },
  {
   "cell_type": "markdown",
   "id": "c1126218-6a91-4e4e-9216-a7c73eeef712",
   "metadata": {},
   "source": [
    "Q5.\n",
    "\n",
    "- Sort the food list in alphabetical order\n",
    "- Reverse the order of the list food"
   ]
  },
  {
   "cell_type": "code",
   "execution_count": 5,
   "id": "6a5797d1-ea77-4f0f-9609-a46ce74e789f",
   "metadata": {},
   "outputs": [
    {
     "name": "stdout",
     "output_type": "stream",
     "text": [
      "Sorted food list in alphabetical order: ['biryani', 'biryani', 'burger', 'burger', 'burger', 'fries', 'fries', 'pasta', 'pizza', 'sandwich']\n",
      "Reverse order list of food: ['sandwich', 'pizza', 'pasta', 'fries', 'fries', 'burger', 'burger', 'burger', 'biryani', 'biryani']\n"
     ]
    }
   ],
   "source": [
    "food.sort()\n",
    "print(f\"Sorted food list in alphabetical order: {food}\")\n",
    "food.sort(reverse=True)\n",
    "print(f\"Reverse order list of food: {food}\")"
   ]
  },
  {
   "cell_type": "markdown",
   "id": "461f6fa9-0eea-49e8-ab2b-cefee7f7d235",
   "metadata": {},
   "source": [
    "Q6.\n",
    "\n",
    "- Find the index of \"pasta\" and print it from the list of food\n",
    "- Count how many times \"pizza\" appears in list food"
   ]
  },
  {
   "cell_type": "code",
   "execution_count": 6,
   "id": "94ae1188-98e3-4168-a571-9aeba5b82831",
   "metadata": {},
   "outputs": [
    {
     "name": "stdout",
     "output_type": "stream",
     "text": [
      " index of \"pasta\" is: 2\n",
      " \"pizza\" appears in food list 1 time\n"
     ]
    }
   ],
   "source": [
    "indexOfPasta = food.index(\"pasta\")\n",
    "print(f\" index of \\\"pasta\\\" is: {indexOfPasta}\")\n",
    "pizzaCount=food.count(\"pizza\")\n",
    "print(f\" \\\"pizza\\\" appears in food list {pizzaCount} time\")"
   ]
  },
  {
   "cell_type": "markdown",
   "id": "099ef23b-3188-412d-8b3c-0021ac3cee53",
   "metadata": {},
   "source": [
    "Q7.\n",
    "\n",
    "- Remove \"burger\" (only the first one) from the list food.\n",
    "- Remove the last item using pop() and print it.\n",
    "\n"
   ]
  },
  {
   "cell_type": "code",
   "execution_count": 7,
   "id": "d6bce82e-55d8-48f5-a1d6-1f014f1b6c94",
   "metadata": {},
   "outputs": [
    {
     "name": "stdout",
     "output_type": "stream",
     "text": [
      "Updated list after removing the first \"burger\" from the food list: ['sandwich', 'pizza', 'pasta', 'fries', 'fries', 'burger', 'burger', 'biryani', 'biryani']\n",
      "Updated list after removing the last item from the food list: ['sandwich', 'pizza', 'pasta', 'fries', 'fries', 'burger', 'burger', 'biryani']\n"
     ]
    }
   ],
   "source": [
    "food.remove(\"burger\")\n",
    "print(f\"Updated list after removing the first \\\"burger\\\" from the food list: {food}\")\n",
    "food.pop()\n",
    "print(f\"Updated list after removing the last item from the food list: {food}\")"
   ]
  },
  {
   "cell_type": "markdown",
   "id": "648c2ce0-5a67-4e17-b3ac-5eb7587dee4b",
   "metadata": {},
   "source": [
    "Q8.\n",
    "\n",
    "- Make a copy of the list of food and name it my_food\n",
    "- Clear the original food list."
   ]
  },
  {
   "cell_type": "code",
   "execution_count": 8,
   "id": "3b2319c6-c3ef-4640-961b-da86a7c513f1",
   "metadata": {},
   "outputs": [],
   "source": [
    "my_food = food\n",
    "food.clear()"
   ]
  },
  {
   "cell_type": "markdown",
   "id": "acd0311b-d9bf-485d-a306-73b281094051",
   "metadata": {},
   "source": [
    "Q9.\n",
    "\n",
    "Count nested list [1,2] by count method\n",
    "\n",
    "data = [[1, 2],[3, 4],[1, 2],[2,4],[1, 2],[1,3,6]]\n"
   ]
  },
  {
   "cell_type": "code",
   "execution_count": 9,
   "id": "f25314e7-b53c-415c-8f2e-664c0477a330",
   "metadata": {},
   "outputs": [
    {
     "name": "stdout",
     "output_type": "stream",
     "text": [
      "nested list [1,2] count is: 3\n"
     ]
    }
   ],
   "source": [
    "data = [[1, 2],[3, 4],[1, 2],[2,4],[1, 2],[1,3,6]]\n",
    "print(f\"nested list [1,2] count is: {data.count([1,2])}\")"
   ]
  },
  {
   "cell_type": "markdown",
   "id": "3a8ca1b5-48c0-44e4-b54b-2d8fe3a7ab82",
   "metadata": {},
   "source": [
    "Q10.\n",
    "\n",
    "Replace 'cat' with 'found you'\n",
    "\n",
    "\n",
    "odd_item = ['almond','peanut',['onion','potato','tomato',['apple','mango','cherry',['cat'],'banana'],'lemon',],'walnut']\n"
   ]
  },
  {
   "cell_type": "code",
   "execution_count": 10,
   "id": "58fd1784-e9e2-4578-b9cf-29c2c6d13b49",
   "metadata": {},
   "outputs": [
    {
     "name": "stdout",
     "output_type": "stream",
     "text": [
      "['almond', 'peanut', ['onion', 'potato', 'tomato', ['apple', 'mango', 'cherry', ['found you'], 'banana'], 'lemon'], 'walnut']\n"
     ]
    }
   ],
   "source": [
    "# odd_item = \n",
    "# [\n",
    "#     'almond',\n",
    "#     'peanut',\n",
    "#     [\n",
    "#         'onion',\n",
    "#         'potato',\n",
    "#         'tomato',\n",
    "#         [\n",
    "#             'apple',\n",
    "#             'mango',\n",
    "#             'cherry',\n",
    "#             [\n",
    "#                 'cat'\n",
    "#             ],\n",
    "#             'banana'\n",
    "#         ]\n",
    "#         ,\n",
    "#         'lemon',\n",
    "#     ]\n",
    "#     ,\n",
    "#     'walnut'\n",
    "# ]\n",
    "\n",
    "odd_item = ['almond','peanut',['onion','potato','tomato',['apple','mango','cherry',['cat'],'banana'],'lemon',],'walnut']\n",
    "odd_item[2][3][3][0]= \"found you\"\n",
    "\n",
    "print(odd_item)"
   ]
  },
  {
   "cell_type": "code",
   "execution_count": null,
   "id": "1b29ebd7",
   "metadata": {},
   "outputs": [],
   "source": []
  }
 ],
 "metadata": {
  "kernelspec": {
   "display_name": "Python 3 (ipykernel)",
   "language": "python",
   "name": "python3"
  },
  "language_info": {
   "codemirror_mode": {
    "name": "ipython",
    "version": 3
   },
   "file_extension": ".py",
   "mimetype": "text/x-python",
   "name": "python",
   "nbconvert_exporter": "python",
   "pygments_lexer": "ipython3",
   "version": "3.11.4"
  }
 },
 "nbformat": 4,
 "nbformat_minor": 5
}
